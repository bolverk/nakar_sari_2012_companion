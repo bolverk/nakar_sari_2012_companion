{
 "cells": [
  {
   "cell_type": "markdown",
   "metadata": {},
   "source": [
    "In this notebook I will try to reproduce the results from [Nakar and Sari 2012](http://adsabs.harvard.edu/abs/2012ApJ...747...88N). Let's start with equation 1. The equation for the backward relativistic Riemann invariant is \n",
    "$\\frac{d x}{d t} = \\frac{\\beta - \\beta_s}{1 - \\beta \\beta_s}$\n",
    "where $\\beta$ is the velocity and $\\beta_s$ is the speed of sound. In this limit we are interested in the early times before the fluid element has time to cool, so $\\beta_s = 1/\\sqrt{3}$. Also, we are interested in the limit $\\beta \\rightarrow 1$. The velocity profile is therefore given implicitly by"
   ]
  },
  {
   "cell_type": "code",
   "execution_count": 21,
   "metadata": {
    "collapsed": false
   },
   "outputs": [
    {
     "data": {
      "image/png": "[encoded data removed]",
      "text/latex": [
       "$$\\frac{x}{t} = \\frac{\\beta_{s} \\gamma^{2} + \\frac{\\beta_{s}}{2} - \\gamma^{2} + \\frac{1}{2}}{\\gamma^{2} \\left(\\beta_{s} - 1\\right)}$$"
      ],
      "text/plain": [
       "         2   β_s    2   1\n",
       "    β_s⋅γ  + ─── - γ  + ─\n",
       "x             2         2\n",
       "─ = ─────────────────────\n",
       "t         2              \n",
       "         γ ⋅(β_s - 1)    "
      ]
     },
     "execution_count": 21,
     "metadata": {},
     "output_type": "execute_result"
    }
   ],
   "source": [
    "import sympy\n",
    "sympy.init_printing()\n",
    "\n",
    "x = sympy.Symbol('x',positive=True)\n",
    "t = sympy.Symbol('t',positive=True)\n",
    "beta = sympy.Symbol('beta',positive=True)\n",
    "beta_s = sympy.Symbol('beta_s',positive=True)\n",
    "gamma = sympy.Symbol('gamma',positive=True)\n",
    "rhs = (beta-beta_s)/(1-beta*beta_s)\n",
    "rhs = rhs.subs(beta,sympy.sqrt(1-1/gamma**2))\n",
    "rhs = sympy.series(rhs,x=gamma,x0=sympy.oo,n=3).removeO()\n",
    "eqn = sympy.Eq(x/t,rhs.simplify())\n",
    "eqn"
   ]
  },
  {
   "cell_type": "markdown",
   "metadata": {},
   "source": [
    "solving for $\\gamma$"
   ]
  },
  {
   "cell_type": "code",
   "execution_count": 26,
   "metadata": {
    "collapsed": false
   },
   "outputs": [
    {
     "data": {
      "image/png": "[encoded data removed]",
      "text/latex": [
       "$$- \\frac{\\sqrt{2} \\sqrt{t}}{2} \\sqrt{- \\frac{1}{\\left(\\beta_{s} - 1\\right) \\left(t - x\\right)}} \\sqrt{\\beta_{s} + 1}$$"
      ],
      "text/plain": [
       "           ___________________             \n",
       "          ╱        -1            _________ \n",
       "-√2⋅√t⋅  ╱  ───────────────── ⋅╲╱ β_s + 1  \n",
       "       ╲╱   (β_s - 1)⋅(t - x)              \n",
       "───────────────────────────────────────────\n",
       "                     2                     "
      ]
     },
     "execution_count": 26,
     "metadata": {},
     "output_type": "execute_result"
    }
   ],
   "source": [
    "gamma_profile = sympy.solve(eqn,gamma)[0]\n",
    "gamma_profile"
   ]
  },
  {
   "cell_type": "markdown",
   "metadata": {},
   "source": [
    "Now let us follow a fluid element. The equation of motion is"
   ]
  },
  {
   "cell_type": "code",
   "execution_count": 37,
   "metadata": {
    "collapsed": false
   },
   "outputs": [
    {
     "data": {
      "image/png": "[encoded data removed]",
      "text/latex": [
       "$$\\frac{d}{d t} x{\\left (t \\right )} = 1 + \\frac{1}{t \\left(\\beta_{s} + 1\\right)} \\left(\\beta_{s} - 1\\right) \\left(t - x{\\left (t \\right )}\\right)$$"
      ],
      "text/plain": [
       "d              (β_s - 1)⋅(t - x(t))\n",
       "──(x(t)) = 1 + ────────────────────\n",
       "dt                 t⋅(β_s + 1)     "
      ]
     },
     "execution_count": 37,
     "metadata": {},
     "output_type": "execute_result"
    }
   ],
   "source": [
    "rhs = sympy.sqrt(1-1/gamma**2)\n",
    "rhs = sympy.series(rhs,x=gamma,x0=sympy.oo,n=3).removeO()\n",
    "rhs = rhs.subs(gamma, gamma_profile)\n",
    "eqn_motion = sympy.Eq(x(t).diff(t),rhs.subs(x,x(t)))\n",
    "eqn_motion"
   ]
  },
  {
   "cell_type": "markdown",
   "metadata": {},
   "source": [
    "solving the equation"
   ]
  },
  {
   "cell_type": "code",
   "execution_count": 51,
   "metadata": {
    "collapsed": false
   },
   "outputs": [
    {
     "data": {
      "image/png": "[encoded data removed]",
      "text/latex": [
       "$$x{\\left (t \\right )} = t + \\frac{t^{- \\frac{2 \\beta_{s}}{\\beta_{s} + 1} + 1}}{2 C_{1}^{\\frac{2 \\beta_{s}}{\\beta_{s} + 1}} \\beta_{s}}$$"
      ],
      "text/plain": [
       "             -2⋅β_s      2⋅β_s     \n",
       "             ───────  - ─────── + 1\n",
       "             β_s + 1    β_s + 1    \n",
       "           C₁       ⋅t             \n",
       "x(t) = t + ────────────────────────\n",
       "                    2⋅β_s          "
      ]
     },
     "execution_count": 51,
     "metadata": {},
     "output_type": "execute_result"
    }
   ],
   "source": [
    "raw_sol = sympy.dsolve(eqn_motion,x(t), hint=\"1st_homogeneous_coeff_best\")\n",
    "raw_sol"
   ]
  },
  {
   "cell_type": "markdown",
   "metadata": {},
   "source": [
    "The lorentz factor of a single fluid element evolves like"
   ]
  },
  {
   "cell_type": "code",
   "execution_count": 68,
   "metadata": {
    "collapsed": false
   },
   "outputs": [
    {
     "data": {
      "image/png": "[encoded data removed]",
      "text/latex": [
       "$$\\frac{d \\ln \\gamma}{d \\ln t} = - \\frac{1}{2} + \\frac{\\sqrt{3}}{2}$$"
      ],
      "text/plain": [
       "                                 1   √3\n",
       "\\frac{d \\ln \\gamma}{d \\ln t} = - ─ + ──\n",
       "                                 2   2 "
      ]
     },
     "execution_count": 68,
     "metadata": {},
     "output_type": "execute_result"
    }
   ],
   "source": [
    "temp = raw_sol.rhs\n",
    "temp = temp.diff(t)\n",
    "temp = 1/sympy.sqrt(temp-1)\n",
    "temp = sympy.expand_power_base(temp)\n",
    "temp = temp.simplify()\n",
    "temp = temp.subs(beta_s,1/sympy.sqrt(3))\n",
    "temp = (sympy.log(temp).diff(t)*t).simplify()\n",
    "sympy.Eq(sympy.Symbol(r'\\frac{d \\ln \\gamma}{d \\ln t}'), temp)"
   ]
  },
  {
   "cell_type": "code",
   "execution_count": null,
   "metadata": {
    "collapsed": true
   },
   "outputs": [],
   "source": []
  }
 ],
 "metadata": {
  "kernelspec": {
   "display_name": "Python 2",
   "language": "python",
   "name": "python2"
  },
  "language_info": {
   "codemirror_mode": {
    "name": "ipython",
    "version": 2
   },
   "file_extension": ".py",
   "mimetype": "text/x-python",
   "name": "python",
   "nbconvert_exporter": "python",
   "pygments_lexer": "ipython2",
   "version": "2.7.11"
  }
 },
 "nbformat": 4,
 "nbformat_minor": 0
}
